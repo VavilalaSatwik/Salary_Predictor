{
 "cells": [
  {
   "cell_type": "code",
   "execution_count": 19,
   "id": "2497dcbc",
   "metadata": {},
   "outputs": [
    {
     "name": "stdout",
     "output_type": "stream",
     "text": [
      "Requirement already satisfied: scikit-learn in c:\\users\\satwik\\anaconda3\\lib\\site-packages (1.0.2)\n",
      "Requirement already satisfied: threadpoolctl>=2.0.0 in c:\\users\\satwik\\anaconda3\\lib\\site-packages (from scikit-learn) (2.2.0)\n",
      "Requirement already satisfied: joblib>=0.11 in c:\\users\\satwik\\anaconda3\\lib\\site-packages (from scikit-learn) (1.1.0)\n",
      "Requirement already satisfied: numpy>=1.14.6 in c:\\users\\satwik\\anaconda3\\lib\\site-packages (from scikit-learn) (1.21.5)\n",
      "Requirement already satisfied: scipy>=1.1.0 in c:\\users\\satwik\\anaconda3\\lib\\site-packages (from scikit-learn) (1.9.1)\n"
     ]
    }
   ],
   "source": [
    "!pip install scikit-learn"
   ]
  },
  {
   "cell_type": "code",
   "execution_count": 20,
   "id": "b6773213",
   "metadata": {},
   "outputs": [],
   "source": []
  },
  {
   "cell_type": "code",
   "execution_count": 1,
   "id": "3b04cf5e",
   "metadata": {
    "scrolled": true
   },
   "outputs": [
    {
     "name": "stdout",
     "output_type": "stream",
     "text": [
      "YearsExperience    30\n",
      "Salary             30\n",
      "dtype: int64\n"
     ]
    },
    {
     "data": {
      "text/html": [
       "<div>\n",
       "<style scoped>\n",
       "    .dataframe tbody tr th:only-of-type {\n",
       "        vertical-align: middle;\n",
       "    }\n",
       "\n",
       "    .dataframe tbody tr th {\n",
       "        vertical-align: top;\n",
       "    }\n",
       "\n",
       "    .dataframe thead th {\n",
       "        text-align: right;\n",
       "    }\n",
       "</style>\n",
       "<table border=\"1\" class=\"dataframe\">\n",
       "  <thead>\n",
       "    <tr style=\"text-align: right;\">\n",
       "      <th></th>\n",
       "      <th>YearsExperience</th>\n",
       "      <th>Salary</th>\n",
       "    </tr>\n",
       "  </thead>\n",
       "  <tbody>\n",
       "    <tr>\n",
       "      <th>0</th>\n",
       "      <td>1.1</td>\n",
       "      <td>39343.0</td>\n",
       "    </tr>\n",
       "    <tr>\n",
       "      <th>1</th>\n",
       "      <td>1.3</td>\n",
       "      <td>46205.0</td>\n",
       "    </tr>\n",
       "    <tr>\n",
       "      <th>2</th>\n",
       "      <td>1.5</td>\n",
       "      <td>37731.0</td>\n",
       "    </tr>\n",
       "    <tr>\n",
       "      <th>3</th>\n",
       "      <td>2.0</td>\n",
       "      <td>43525.0</td>\n",
       "    </tr>\n",
       "    <tr>\n",
       "      <th>4</th>\n",
       "      <td>2.2</td>\n",
       "      <td>39891.0</td>\n",
       "    </tr>\n",
       "    <tr>\n",
       "      <th>5</th>\n",
       "      <td>2.9</td>\n",
       "      <td>56642.0</td>\n",
       "    </tr>\n",
       "    <tr>\n",
       "      <th>6</th>\n",
       "      <td>3.0</td>\n",
       "      <td>60150.0</td>\n",
       "    </tr>\n",
       "    <tr>\n",
       "      <th>7</th>\n",
       "      <td>3.2</td>\n",
       "      <td>54445.0</td>\n",
       "    </tr>\n",
       "    <tr>\n",
       "      <th>8</th>\n",
       "      <td>3.2</td>\n",
       "      <td>64445.0</td>\n",
       "    </tr>\n",
       "    <tr>\n",
       "      <th>9</th>\n",
       "      <td>3.7</td>\n",
       "      <td>57189.0</td>\n",
       "    </tr>\n",
       "  </tbody>\n",
       "</table>\n",
       "</div>"
      ],
      "text/plain": [
       "   YearsExperience   Salary\n",
       "0              1.1  39343.0\n",
       "1              1.3  46205.0\n",
       "2              1.5  37731.0\n",
       "3              2.0  43525.0\n",
       "4              2.2  39891.0\n",
       "5              2.9  56642.0\n",
       "6              3.0  60150.0\n",
       "7              3.2  54445.0\n",
       "8              3.2  64445.0\n",
       "9              3.7  57189.0"
      ]
     },
     "execution_count": 1,
     "metadata": {},
     "output_type": "execute_result"
    }
   ],
   "source": [
    "import pandas as pd\n",
    "df=pd.read_csv(\"Salary_Data.csv\")\n",
    "print(df.count())\n",
    "df.head(10)"
   ]
  },
  {
   "cell_type": "markdown",
   "id": "3ce2284d",
   "metadata": {},
   "source": [
    "# YearsExperience v/s Salary"
   ]
  },
  {
   "cell_type": "code",
   "execution_count": 2,
   "id": "cd921cbf",
   "metadata": {},
   "outputs": [
    {
     "data": {
      "text/plain": [
       "<matplotlib.collections.PathCollection at 0x24310fac820>"
      ]
     },
     "execution_count": 2,
     "metadata": {},
     "output_type": "execute_result"
    },
    {
     "data": {
      "image/png": "[encoded data removed]",
      "text/plain": [
       "<Figure size 640x480 with 1 Axes>"
      ]
     },
     "metadata": {},
     "output_type": "display_data"
    }
   ],
   "source": [
    "import matplotlib.pyplot as plt\n",
    "plt.scatter(df['YearsExperience'],df['Salary'])"
   ]
  },
  {
   "cell_type": "markdown",
   "id": "a7dd0c1f",
   "metadata": {},
   "source": [
    "# Model"
   ]
  },
  {
   "cell_type": "code",
   "execution_count": 3,
   "id": "aa9efb31",
   "metadata": {},
   "outputs": [],
   "source": [
    "from sklearn.linear_model import LinearRegression"
   ]
  },
  {
   "cell_type": "code",
   "execution_count": 4,
   "id": "f5cc63f7",
   "metadata": {},
   "outputs": [],
   "source": [
    "x=df[['YearsExperience']]\n",
    "y=df['Salary']"
   ]
  },
  {
   "cell_type": "code",
   "execution_count": 5,
   "id": "e09d11fd",
   "metadata": {},
   "outputs": [
    {
     "data": {
      "text/plain": [
       "LinearRegression()"
      ]
     },
     "execution_count": 5,
     "metadata": {},
     "output_type": "execute_result"
    }
   ],
   "source": [
    "reg=LinearRegression()\n",
    "reg.fit(x,y)"
   ]
  },
  {
   "cell_type": "code",
   "execution_count": 6,
   "id": "e04f06a7",
   "metadata": {},
   "outputs": [
    {
     "name": "stderr",
     "output_type": "stream",
     "text": [
      "C:\\Users\\Satwik\\anaconda3\\lib\\site-packages\\sklearn\\base.py:450: UserWarning: X does not have valid feature names, but LinearRegression was fitted with feature names\n",
      "  warnings.warn(\n"
     ]
    },
    {
     "data": {
      "text/plain": [
       "array([38077.15121656])"
      ]
     },
     "execution_count": 6,
     "metadata": {},
     "output_type": "execute_result"
    }
   ],
   "source": [
    "reg.predict([[1.3]])"
   ]
  },
  {
   "cell_type": "code",
   "execution_count": 7,
   "id": "8ce63da0",
   "metadata": {},
   "outputs": [
    {
     "data": {
      "text/plain": [
       "array([9449.96232146])"
      ]
     },
     "execution_count": 7,
     "metadata": {},
     "output_type": "execute_result"
    }
   ],
   "source": [
    "reg.coef_"
   ]
  },
  {
   "cell_type": "code",
   "execution_count": 8,
   "id": "2f7c3b5f",
   "metadata": {},
   "outputs": [
    {
     "data": {
      "text/plain": [
       "25792.20019866871"
      ]
     },
     "execution_count": 8,
     "metadata": {},
     "output_type": "execute_result"
    }
   ],
   "source": [
    "reg.intercept_"
   ]
  },
  {
   "cell_type": "markdown",
   "id": "a3cc9998",
   "metadata": {},
   "source": [
    "# Salary Prediction for single dependent variable(Experience)"
   ]
  },
  {
   "cell_type": "code",
   "execution_count": 46,
   "id": "3675e36c",
   "metadata": {},
   "outputs": [
    {
     "name": "stdout",
     "output_type": "stream",
     "text": [
      "Input your Experience to know your expectable Salary:5.6\n",
      "Your Expectable Salary is: 78711.98919881711\n"
     ]
    },
    {
     "name": "stderr",
     "output_type": "stream",
     "text": [
      "C:\\Users\\Satwik\\anaconda3\\lib\\site-packages\\sklearn\\base.py:450: UserWarning: X does not have valid feature names, but LinearRegression was fitted with feature names\n",
      "  warnings.warn(\n"
     ]
    }
   ],
   "source": [
    "Exp=float(input(\"Input your Experience to know your expectable Salary:\"))\n",
    "m=reg.predict([[Exp]])\n",
    "print(\"Your Expectable Salary is:\",m[0])"
   ]
  },
  {
   "cell_type": "markdown",
   "id": "21211a3c",
   "metadata": {},
   "source": [
    "# Regression Line of Graph"
   ]
  },
  {
   "cell_type": "code",
   "execution_count": 48,
   "id": "700ef46c",
   "metadata": {},
   "outputs": [
    {
     "data": {
      "text/plain": [
       "<matplotlib.collections.PathCollection at 0x24313cfa910>"
      ]
     },
     "execution_count": 48,
     "metadata": {},
     "output_type": "execute_result"
    },
    {
     "data": {
      "image/png": "[encoded data removed]",
      "text/plain": [
       "<Figure size 640x480 with 1 Axes>"
      ]
     },
     "metadata": {},
     "output_type": "display_data"
    }
   ],
   "source": [
    "x_linear=list(df['YearsExperience'])\n",
    "y_linear=[]\n",
    "ele=0\n",
    "for i in range(len(x_linear)):\n",
    "    ele=(reg.coef_* x_linear[i])+reg.intercept_\n",
    "    y_linear.append(ele)\n",
    "    ele=0\n",
    "    \n",
    "plt.plot(x_linear,y_linear)\n",
    "plt.scatter(df['YearsExperience'],df['Salary'])\n"
   ]
  },
  {
   "cell_type": "markdown",
   "id": "db3c1a49",
   "metadata": {},
   "source": [
    "# y=mx+c "
   ]
  },
  {
   "cell_type": "code",
   "execution_count": 12,
   "id": "63d76549",
   "metadata": {},
   "outputs": [
    {
     "name": "stdout",
     "output_type": "stream",
     "text": [
      "[38077.15121656]\n"
     ]
    }
   ],
   "source": [
    "y = (1.3 * reg.coef_ ) + reg.intercept_\n",
    "print(y)"
   ]
  },
  {
   "cell_type": "markdown",
   "id": "b207bcbb",
   "metadata": {},
   "source": [
    "# MultipleRegression for Salary Prediction"
   ]
  },
  {
   "cell_type": "code",
   "execution_count": 15,
   "id": "8dbc4eec",
   "metadata": {},
   "outputs": [
    {
     "name": "stdout",
     "output_type": "stream",
     "text": [
      "    YearsExperience    Salary\n",
      "0               1.1   39343.0\n",
      "1               1.3   46205.0\n",
      "2               1.5   37731.0\n",
      "3               2.0   43525.0\n",
      "4               2.2   39891.0\n",
      "5               2.9   56642.0\n",
      "6               3.0   60150.0\n",
      "7               3.2   54445.0\n",
      "8               3.2   64445.0\n",
      "9               3.7   57189.0\n",
      "10              3.9   63218.0\n",
      "11              4.0   55794.0\n",
      "12              4.0   56957.0\n",
      "13              4.1   57081.0\n",
      "14              4.5   61111.0\n",
      "15              4.9   67938.0\n",
      "16              5.1   66029.0\n",
      "17              5.3   83088.0\n",
      "18              5.9   81363.0\n",
      "19              6.0   93940.0\n",
      "20              6.8   91738.0\n",
      "21              7.1   98273.0\n",
      "22              7.9  101302.0\n",
      "23              8.2  113812.0\n",
      "24              8.7  109431.0\n",
      "25              9.0  105582.0\n",
      "26              9.5  116969.0\n",
      "27              9.6  112635.0\n",
      "28             10.3  122391.0\n",
      "29             10.5  121872.0\n"
     ]
    }
   ],
   "source": [
    "df1=df\n",
    "print(df1)"
   ]
  },
  {
   "cell_type": "code",
   "execution_count": 16,
   "id": "b317c27d",
   "metadata": {},
   "outputs": [
    {
     "name": "stdout",
     "output_type": "stream",
     "text": [
      "30 \n",
      " [24.0, 24.5, 25.0, 25.5, 26.0, 26.5, 27.0, 27.5, 28.0, 28.5, 29.0, 29.5, 30.0, 30.5, 31.0, 31.5, 32.0, 32.5, 33.0, 33.5, 34.0, 34.5, 35.0, 35.5, 36.0, 36.5, 37.0, 37.5, 38.0, 38.5]\n"
     ]
    }
   ],
   "source": [
    "age=[]\n",
    "m=24\n",
    "for i in range(30):\n",
    "    ele=m+(i/2)\n",
    "    age.append(ele)\n",
    "print(len(age),\"\\n\",age)"
   ]
  },
  {
   "cell_type": "code",
   "execution_count": 17,
   "id": "cb0a8087",
   "metadata": {},
   "outputs": [],
   "source": [
    "df1.insert(1,'age',age)"
   ]
  },
  {
   "cell_type": "code",
   "execution_count": 59,
   "id": "f65b5fbf",
   "metadata": {},
   "outputs": [
    {
     "name": "stdout",
     "output_type": "stream",
     "text": [
      "    YearsExperience   age    Salary\n",
      "0               1.1  24.0   39343.0\n",
      "1               1.3  24.5   46205.0\n",
      "2               1.5  25.0   37731.0\n",
      "3               2.0  25.5   43525.0\n",
      "4               2.2  26.0   39891.0\n",
      "5               2.9  26.5   56642.0\n",
      "6               3.0  27.0   60150.0\n",
      "7               3.2  27.5   54445.0\n",
      "8               3.2  28.0   64445.0\n",
      "9               3.7  28.5   57189.0\n",
      "10              3.9  29.0   63218.0\n",
      "11              4.0  29.5   55794.0\n",
      "12              4.0  30.0   56957.0\n",
      "13              4.1  30.5   57081.0\n",
      "14              4.5  31.0   61111.0\n",
      "15              4.9  31.5   67938.0\n",
      "16              5.1  32.0   66029.0\n",
      "17              5.3  32.5   83088.0\n",
      "18              5.9  33.0   81363.0\n",
      "19              6.0  33.5   93940.0\n",
      "20              6.8  34.0   91738.0\n",
      "21              7.1  34.5   98273.0\n",
      "22              7.9  35.0  101302.0\n",
      "23              8.2  35.5  113812.0\n",
      "24              8.7  36.0  109431.0\n",
      "25              9.0  36.5  105582.0\n",
      "26              9.5  37.0  116969.0\n",
      "27              9.6  37.5  112635.0\n",
      "28             10.3  38.0  122391.0\n",
      "29             10.5  38.5  121872.0\n"
     ]
    }
   ],
   "source": [
    "print(df1)"
   ]
  },
  {
   "cell_type": "code",
   "execution_count": 18,
   "id": "bb70fef7",
   "metadata": {},
   "outputs": [
    {
     "data": {
      "text/plain": [
       "<matplotlib.collections.PathCollection at 0x243137bb700>"
      ]
     },
     "execution_count": 18,
     "metadata": {},
     "output_type": "execute_result"
    },
    {
     "data": {
      "image/png": "[encoded data removed]",
      "text/plain": [
       "<Figure size 640x480 with 1 Axes>"
      ]
     },
     "metadata": {},
     "output_type": "display_data"
    }
   ],
   "source": [
    "plt.scatter(df['YearsExperience'],df['age'],df['Salary'])"
   ]
  },
  {
   "cell_type": "code",
   "execution_count": 23,
   "id": "caf9f662",
   "metadata": {},
   "outputs": [
    {
     "data": {
      "text/html": [
       "<div>\n",
       "<style scoped>\n",
       "    .dataframe tbody tr th:only-of-type {\n",
       "        vertical-align: middle;\n",
       "    }\n",
       "\n",
       "    .dataframe tbody tr th {\n",
       "        vertical-align: top;\n",
       "    }\n",
       "\n",
       "    .dataframe thead th {\n",
       "        text-align: right;\n",
       "    }\n",
       "</style>\n",
       "<table border=\"1\" class=\"dataframe\">\n",
       "  <thead>\n",
       "    <tr style=\"text-align: right;\">\n",
       "      <th></th>\n",
       "      <th>YearsExperience</th>\n",
       "      <th>age</th>\n",
       "    </tr>\n",
       "  </thead>\n",
       "  <tbody>\n",
       "    <tr>\n",
       "      <th>0</th>\n",
       "      <td>1.1</td>\n",
       "      <td>24.0</td>\n",
       "    </tr>\n",
       "    <tr>\n",
       "      <th>1</th>\n",
       "      <td>1.3</td>\n",
       "      <td>24.5</td>\n",
       "    </tr>\n",
       "    <tr>\n",
       "      <th>2</th>\n",
       "      <td>1.5</td>\n",
       "      <td>25.0</td>\n",
       "    </tr>\n",
       "    <tr>\n",
       "      <th>3</th>\n",
       "      <td>2.0</td>\n",
       "      <td>25.5</td>\n",
       "    </tr>\n",
       "    <tr>\n",
       "      <th>4</th>\n",
       "      <td>2.2</td>\n",
       "      <td>26.0</td>\n",
       "    </tr>\n",
       "    <tr>\n",
       "      <th>5</th>\n",
       "      <td>2.9</td>\n",
       "      <td>26.5</td>\n",
       "    </tr>\n",
       "    <tr>\n",
       "      <th>6</th>\n",
       "      <td>3.0</td>\n",
       "      <td>27.0</td>\n",
       "    </tr>\n",
       "    <tr>\n",
       "      <th>7</th>\n",
       "      <td>3.2</td>\n",
       "      <td>27.5</td>\n",
       "    </tr>\n",
       "    <tr>\n",
       "      <th>8</th>\n",
       "      <td>3.2</td>\n",
       "      <td>28.0</td>\n",
       "    </tr>\n",
       "    <tr>\n",
       "      <th>9</th>\n",
       "      <td>3.7</td>\n",
       "      <td>28.5</td>\n",
       "    </tr>\n",
       "    <tr>\n",
       "      <th>10</th>\n",
       "      <td>3.9</td>\n",
       "      <td>29.0</td>\n",
       "    </tr>\n",
       "    <tr>\n",
       "      <th>11</th>\n",
       "      <td>4.0</td>\n",
       "      <td>29.5</td>\n",
       "    </tr>\n",
       "    <tr>\n",
       "      <th>12</th>\n",
       "      <td>4.0</td>\n",
       "      <td>30.0</td>\n",
       "    </tr>\n",
       "    <tr>\n",
       "      <th>13</th>\n",
       "      <td>4.1</td>\n",
       "      <td>30.5</td>\n",
       "    </tr>\n",
       "    <tr>\n",
       "      <th>14</th>\n",
       "      <td>4.5</td>\n",
       "      <td>31.0</td>\n",
       "    </tr>\n",
       "    <tr>\n",
       "      <th>15</th>\n",
       "      <td>4.9</td>\n",
       "      <td>31.5</td>\n",
       "    </tr>\n",
       "    <tr>\n",
       "      <th>16</th>\n",
       "      <td>5.1</td>\n",
       "      <td>32.0</td>\n",
       "    </tr>\n",
       "    <tr>\n",
       "      <th>17</th>\n",
       "      <td>5.3</td>\n",
       "      <td>32.5</td>\n",
       "    </tr>\n",
       "    <tr>\n",
       "      <th>18</th>\n",
       "      <td>5.9</td>\n",
       "      <td>33.0</td>\n",
       "    </tr>\n",
       "    <tr>\n",
       "      <th>19</th>\n",
       "      <td>6.0</td>\n",
       "      <td>33.5</td>\n",
       "    </tr>\n",
       "    <tr>\n",
       "      <th>20</th>\n",
       "      <td>6.8</td>\n",
       "      <td>34.0</td>\n",
       "    </tr>\n",
       "    <tr>\n",
       "      <th>21</th>\n",
       "      <td>7.1</td>\n",
       "      <td>34.5</td>\n",
       "    </tr>\n",
       "    <tr>\n",
       "      <th>22</th>\n",
       "      <td>7.9</td>\n",
       "      <td>35.0</td>\n",
       "    </tr>\n",
       "    <tr>\n",
       "      <th>23</th>\n",
       "      <td>8.2</td>\n",
       "      <td>35.5</td>\n",
       "    </tr>\n",
       "    <tr>\n",
       "      <th>24</th>\n",
       "      <td>8.7</td>\n",
       "      <td>36.0</td>\n",
       "    </tr>\n",
       "    <tr>\n",
       "      <th>25</th>\n",
       "      <td>9.0</td>\n",
       "      <td>36.5</td>\n",
       "    </tr>\n",
       "    <tr>\n",
       "      <th>26</th>\n",
       "      <td>9.5</td>\n",
       "      <td>37.0</td>\n",
       "    </tr>\n",
       "    <tr>\n",
       "      <th>27</th>\n",
       "      <td>9.6</td>\n",
       "      <td>37.5</td>\n",
       "    </tr>\n",
       "    <tr>\n",
       "      <th>28</th>\n",
       "      <td>10.3</td>\n",
       "      <td>38.0</td>\n",
       "    </tr>\n",
       "    <tr>\n",
       "      <th>29</th>\n",
       "      <td>10.5</td>\n",
       "      <td>38.5</td>\n",
       "    </tr>\n",
       "  </tbody>\n",
       "</table>\n",
       "</div>"
      ],
      "text/plain": [
       "    YearsExperience   age\n",
       "0               1.1  24.0\n",
       "1               1.3  24.5\n",
       "2               1.5  25.0\n",
       "3               2.0  25.5\n",
       "4               2.2  26.0\n",
       "5               2.9  26.5\n",
       "6               3.0  27.0\n",
       "7               3.2  27.5\n",
       "8               3.2  28.0\n",
       "9               3.7  28.5\n",
       "10              3.9  29.0\n",
       "11              4.0  29.5\n",
       "12              4.0  30.0\n",
       "13              4.1  30.5\n",
       "14              4.5  31.0\n",
       "15              4.9  31.5\n",
       "16              5.1  32.0\n",
       "17              5.3  32.5\n",
       "18              5.9  33.0\n",
       "19              6.0  33.5\n",
       "20              6.8  34.0\n",
       "21              7.1  34.5\n",
       "22              7.9  35.0\n",
       "23              8.2  35.5\n",
       "24              8.7  36.0\n",
       "25              9.0  36.5\n",
       "26              9.5  37.0\n",
       "27              9.6  37.5\n",
       "28             10.3  38.0\n",
       "29             10.5  38.5"
      ]
     },
     "execution_count": 23,
     "metadata": {},
     "output_type": "execute_result"
    }
   ],
   "source": [
    "x2=df[['YearsExperience','age']]\n",
    "y2=df['Salary']\n",
    "x2 "
   ]
  },
  {
   "cell_type": "code",
   "execution_count": 24,
   "id": "0ce522a5",
   "metadata": {},
   "outputs": [
    {
     "data": {
      "text/plain": [
       "0      39343.0\n",
       "1      46205.0\n",
       "2      37731.0\n",
       "3      43525.0\n",
       "4      39891.0\n",
       "5      56642.0\n",
       "6      60150.0\n",
       "7      54445.0\n",
       "8      64445.0\n",
       "9      57189.0\n",
       "10     63218.0\n",
       "11     55794.0\n",
       "12     56957.0\n",
       "13     57081.0\n",
       "14     61111.0\n",
       "15     67938.0\n",
       "16     66029.0\n",
       "17     83088.0\n",
       "18     81363.0\n",
       "19     93940.0\n",
       "20     91738.0\n",
       "21     98273.0\n",
       "22    101302.0\n",
       "23    113812.0\n",
       "24    109431.0\n",
       "25    105582.0\n",
       "26    116969.0\n",
       "27    112635.0\n",
       "28    122391.0\n",
       "29    121872.0\n",
       "Name: Salary, dtype: float64"
      ]
     },
     "execution_count": 24,
     "metadata": {},
     "output_type": "execute_result"
    }
   ],
   "source": [
    "y2"
   ]
  },
  {
   "cell_type": "code",
   "execution_count": 27,
   "id": "75954867",
   "metadata": {},
   "outputs": [
    {
     "data": {
      "text/plain": [
       "LinearRegression()"
      ]
     },
     "execution_count": 27,
     "metadata": {},
     "output_type": "execute_result"
    }
   ],
   "source": [
    "from sklearn.model_selection import train_test_split\n",
    "x2_train,x2_test,y2_train,y2_test = train_test_split(x2,y2,test_size=0.3,random_state=30)\n",
    "mlr=LinearRegression()\n",
    "mlr"
   ]
  },
  {
   "cell_type": "code",
   "execution_count": 28,
   "id": "be863022",
   "metadata": {},
   "outputs": [
    {
     "data": {
      "text/plain": [
       "array([ 71125.05774659, 125383.9526142 , 117365.68152811,  61780.04407141,\n",
       "       109347.41044202,  34529.48548902,  54831.83938933,  53233.96672727,\n",
       "       112286.47958106])"
      ]
     },
     "execution_count": 28,
     "metadata": {},
     "output_type": "execute_result"
    }
   ],
   "source": [
    "mlr.fit(x2_train,y2_train)\n",
    "mlr.predict(x2_test)"
   ]
  },
  {
   "cell_type": "code",
   "execution_count": 29,
   "id": "56f71c9a",
   "metadata": {},
   "outputs": [
    {
     "data": {
      "text/plain": [
       "0.9685496780496334"
      ]
     },
     "execution_count": 29,
     "metadata": {},
     "output_type": "execute_result"
    }
   ],
   "source": [
    "mlr.score(x2_test,y2_test)"
   ]
  },
  {
   "cell_type": "code",
   "execution_count": 32,
   "id": "2c834bc9",
   "metadata": {},
   "outputs": [
    {
     "name": "stdout",
     "output_type": "stream",
     "text": [
      "    YearsExperience   age\n",
      "4               2.2  26.0\n",
      "11              4.0  29.5\n",
      "22              7.9  35.0\n",
      "18              5.9  33.0\n",
      "19              6.0  33.5\n",
      "1               1.3  24.5\n",
      "16              5.1  32.0\n",
      "7               3.2  27.5\n",
      "9               3.7  28.5\n",
      "3               2.0  25.5\n",
      "14              4.5  31.0\n",
      "17              5.3  32.5\n",
      "21              7.1  34.5\n",
      "2               1.5  25.0\n",
      "23              8.2  35.5\n",
      "12              4.0  30.0\n",
      "20              6.8  34.0\n",
      "27              9.6  37.5\n",
      "13              4.1  30.5\n",
      "29             10.5  38.5\n",
      "5               2.9  26.5\n",
      "    YearsExperience   age\n",
      "15              4.9  31.5\n",
      "28             10.3  38.0\n",
      "26              9.5  37.0\n",
      "10              3.9  29.0\n",
      "24              8.7  36.0\n",
      "0               1.1  24.0\n",
      "8               3.2  28.0\n",
      "6               3.0  27.0\n",
      "25              9.0  36.5\n",
      "___________________\n",
      "4      39891.0\n",
      "11     55794.0\n",
      "22    101302.0\n",
      "18     81363.0\n",
      "19     93940.0\n",
      "1      46205.0\n",
      "16     66029.0\n",
      "7      54445.0\n",
      "9      57189.0\n",
      "3      43525.0\n",
      "14     61111.0\n",
      "17     83088.0\n",
      "21     98273.0\n",
      "2      37731.0\n",
      "23    113812.0\n",
      "12     56957.0\n",
      "20     91738.0\n",
      "27    112635.0\n",
      "13     57081.0\n",
      "29    121872.0\n",
      "5      56642.0\n",
      "Name: Salary, dtype: float64\n",
      "15     67938.0\n",
      "28    122391.0\n",
      "26    116969.0\n",
      "10     63218.0\n",
      "24    109431.0\n",
      "0      39343.0\n",
      "8      64445.0\n",
      "6      60150.0\n",
      "25    105582.0\n",
      "Name: Salary, dtype: float64\n"
     ]
    }
   ],
   "source": [
    "print(x2_train)\n",
    "print(x2_test)\n",
    "print(\"___________________\")\n",
    "print(y2_train)\n",
    "print(y2_test)"
   ]
  },
  {
   "cell_type": "code",
   "execution_count": 33,
   "id": "1a3dde21",
   "metadata": {},
   "outputs": [
    {
     "data": {
      "text/plain": [
       "array([10700.66404006,  -542.26014595])"
      ]
     },
     "execution_count": 33,
     "metadata": {},
     "output_type": "execute_result"
    }
   ],
   "source": [
    "mlr.coef_"
   ]
  },
  {
   "cell_type": "code",
   "execution_count": 34,
   "id": "44788b92",
   "metadata": {},
   "outputs": [
    {
     "data": {
      "text/plain": [
       "35772.99854786128"
      ]
     },
     "execution_count": 34,
     "metadata": {},
     "output_type": "execute_result"
    }
   ],
   "source": [
    "mlr.intercept_"
   ]
  },
  {
   "cell_type": "code",
   "execution_count": 35,
   "id": "22d41e1c",
   "metadata": {},
   "outputs": [
    {
     "name": "stderr",
     "output_type": "stream",
     "text": [
      "C:\\Users\\Satwik\\anaconda3\\lib\\site-packages\\sklearn\\base.py:450: UserWarning: X does not have valid feature names, but LinearRegression was fitted with feature names\n",
      "  warnings.warn(\n"
     ]
    },
    {
     "data": {
      "text/plain": [
       "array([69827.22293331])"
      ]
     },
     "execution_count": 35,
     "metadata": {},
     "output_type": "execute_result"
    }
   ],
   "source": [
    "mlr.predict([[4.5,26]])"
   ]
  },
  {
   "cell_type": "markdown",
   "id": "676a4e0b",
   "metadata": {},
   "source": [
    "# y=m1*x1+m2*x2 + c"
   ]
  },
  {
   "cell_type": "code",
   "execution_count": 36,
   "id": "608e03cb",
   "metadata": {},
   "outputs": [
    {
     "name": "stdout",
     "output_type": "stream",
     "text": [
      "69827.22293343129\n"
     ]
    }
   ],
   "source": [
    "y= 10700.66404006 *4.5 + -542.26014595 * 26 + 35772.99854786128\n",
    "print(y)"
   ]
  },
  {
   "cell_type": "markdown",
   "id": "dc5beba9",
   "metadata": {},
   "source": [
    "# Salary Prediction for Multiple Dependent Values(Experience,Age)"
   ]
  },
  {
   "cell_type": "code",
   "execution_count": 39,
   "id": "cbc81721",
   "metadata": {},
   "outputs": [
    {
     "name": "stdout",
     "output_type": "stream",
     "text": [
      "Input your Experience :5.0\n",
      "Input your age:22.0\n",
      "Your Expectable Salary would be: 77346.59553715987\n"
     ]
    },
    {
     "name": "stderr",
     "output_type": "stream",
     "text": [
      "C:\\Users\\Satwik\\anaconda3\\lib\\site-packages\\sklearn\\base.py:450: UserWarning: X does not have valid feature names, but LinearRegression was fitted with feature names\n",
      "  warnings.warn(\n"
     ]
    }
   ],
   "source": [
    "exp_in=float(input(\"Input your Experience :\"))\n",
    "age_in=float(input(\"Input your age:\"))\n",
    "exp_sal_mul=mlr.predict([[exp_in,age_in]])\n",
    "print(\"Your Expectable Salary would be:\",exp_sal_mul[0])"
   ]
  },
  {
   "cell_type": "markdown",
   "id": "1d3f065c",
   "metadata": {},
   "source": [
    "# Regression Line of Graph"
   ]
  },
  {
   "cell_type": "code",
   "execution_count": 63,
   "id": "aab28fb6",
   "metadata": {},
   "outputs": [
    {
     "data": {
      "text/plain": [
       "<matplotlib.collections.PathCollection at 0x24313df39d0>"
      ]
     },
     "execution_count": 63,
     "metadata": {},
     "output_type": "execute_result"
    },
    {
     "data": {
      "image/png": "[encoded data removed]",
      "text/plain": [
       "<Figure size 640x480 with 1 Axes>"
      ]
     },
     "metadata": {},
     "output_type": "display_data"
    }
   ],
   "source": [
    "age_multi=list(df['age'])\n",
    "x_multi=list(df['YearsExperience'])\n",
    "y_multi=[]\n",
    "ele=0\n",
    "for i in range(len(age_multi)):\n",
    "    ele= (mlr.coef_[0]* x_multi[i]) + (mlr.coef_[1]* age_multi[i]) + mlr.intercept_\n",
    "    y_multi.append(ele)\n",
    "    ele=0\n",
    "    \n",
    "plt.plot(x_multi,y_multi,color='black')\n",
    "plt.scatter(df['YearsExperience'],df['Salary'],color='green')\n",
    "plt.scatter(df['age'],df['Salary'],color='red')\n",
    "    "
   ]
  },
  {
   "attachments": {},
   "cell_type": "markdown",
   "id": "0be5610c",
   "metadata": {},
   "source": []
  },
  {
   "cell_type": "code",
   "execution_count": null,
   "id": "d68f47e0",
   "metadata": {},
   "outputs": [],
   "source": []
  }
 ],
 "metadata": {
  "kernelspec": {
   "display_name": "Python 3 (ipykernel)",
   "language": "python",
   "name": "python3"
  },
  "language_info": {
   "codemirror_mode": {
    "name": "ipython",
    "version": 3
   },
   "file_extension": ".py",
   "mimetype": "text/x-python",
   "name": "python",
   "nbconvert_exporter": "python",
   "pygments_lexer": "ipython3",
   "version": "3.9.13"
  }
 },
 "nbformat": 4,
 "nbformat_minor": 5
}
